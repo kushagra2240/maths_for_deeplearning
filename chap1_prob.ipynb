{
 "cells": [
  {
   "cell_type": "markdown",
   "metadata": {},
   "source": [
    "3 Coin toss calculator"
   ]
  },
  {
   "cell_type": "code",
   "execution_count": 2,
   "metadata": {},
   "outputs": [],
   "source": [
    "import numpy as np"
   ]
  },
  {
   "cell_type": "code",
   "execution_count": 46,
   "metadata": {},
   "outputs": [],
   "source": [
    "NUM_COIN_TOSSES = 1000000\n",
    "NUM_COINS = 3"
   ]
  },
  {
   "cell_type": "code",
   "execution_count": 47,
   "metadata": {},
   "outputs": [
    {
     "name": "stdout",
     "output_type": "stream",
     "text": [
      "[0. 0. 0. 0.]\n",
      "Probabilities: [0.124829 0.374818 0.375542 0.124811]\n"
     ]
    }
   ],
   "source": [
    "heads = np.zeros(NUM_COINS+1)\n",
    "print(heads)\n",
    "for i in range(NUM_COIN_TOSSES):\n",
    "    flips = np.random.randint(0, 2, NUM_COINS)\n",
    "    # h, rem = np.bincount(flips, minlength=2)\n",
    "    h = np.sum(flips)\n",
    "    heads[h] += 1\n",
    "    # print(f\"Flips: {flips}, number of: {h}, heads: {heads}\")\n",
    "\n",
    "prob = heads / NUM_COIN_TOSSES\n",
    "print(f\"Probabilities: {prob}\")"
   ]
  },
  {
   "cell_type": "code",
   "execution_count": 32,
   "metadata": {},
   "outputs": [
    {
     "name": "stdout",
     "output_type": "stream",
     "text": [
      "[0 0 0]\n",
      "3\n"
     ]
    }
   ],
   "source": [
    "flips = np.random.randint(0, 2, NUM_COINS)\n",
    "print(flips)\n",
    "h, _ = np.bincount(flips, minlength=2)\n",
    "print(h)"
   ]
  },
  {
   "cell_type": "markdown",
   "metadata": {},
   "source": [
    "Birthday paradox\n"
   ]
  },
  {
   "cell_type": "code",
   "execution_count": 48,
   "metadata": {},
   "outputs": [
    {
     "name": "stdout",
     "output_type": "stream",
     "text": [
      "Number of pairs: 253\n"
     ]
    }
   ],
   "source": [
    "POPULATION_SIZE = 300\n",
    "# number of ways a pair of people can share a birthday, assuming non leap year is 1/365. so the ways they don'w share a birthday is 1 - 1/365 = 364/365 \n",
    "# fist we calculate how many such pairs be chosen before the probalilty of not finding common birthday is < 0.5\n",
    "\n",
    "for pairs in range(1, POPULATION_SIZE):\n",
    "    if ((364/365)**pairs) < 0.5:\n",
    "        print (f\"Number of pairs: {pairs}\")\n",
    "        break"
   ]
  },
  {
   "cell_type": "code",
   "execution_count": null,
   "metadata": {},
   "outputs": [],
   "source": [
    "# now we find how many people are needed such that nC2 > 253\n",
    "# 23C2 = 253. so with 23 people the probability of finding a pair with common birthday is > 0.5"
   ]
  },
  {
   "cell_type": "markdown",
   "metadata": {},
   "source": [
    "Simulation to check the above result"
   ]
  },
  {
   "cell_type": "code",
   "execution_count": 49,
   "metadata": {},
   "outputs": [
    {
     "name": "stdout",
     "output_type": "stream",
     "text": [
      "Probability of finding a pair with common birthday: 0.00274\n"
     ]
    }
   ],
   "source": [
    "SIMULATION_COUNT = 100000\n",
    "\n",
    "matches = 0 \n",
    "for i in range(SIMULATION_COUNT):\n",
    "    a_birthday = np.random.randint(0, 364)\n",
    "    b_birthday = np.random.randint(0, 364)\n",
    "    # _, counts = np.unique(birthdays, return_counts=True)\n",
    "    if a_birthday == b_birthday:\n",
    "        matches += 1\n",
    "\n",
    "print(f\"Probability of finding a pair with common birthday: {matches/SIMULATION_COUNT}\")"
   ]
  },
  {
   "cell_type": "code",
   "execution_count": null,
   "metadata": {},
   "outputs": [],
   "source": [
    "# simulation to find number of people required to have a 50% chance of finding a pair with common birthday"
   ]
  },
  {
   "cell_type": "code",
   "execution_count": 53,
   "metadata": {},
   "outputs": [
    {
     "name": "stdout",
     "output_type": "stream",
     "text": [
      "Population size required to have 50% chance of finding a pair with common birthday: 23\n"
     ]
    }
   ],
   "source": [
    "MIN_POPULATION_SIZE = 25\n",
    "# check likelihood from 2 to min population size. find the first instance it crosses 0.5\n",
    "for sample_size in range (2,MIN_POPULATION_SIZE):\n",
    "    matches = 0\n",
    "    for i in range(SIMULATION_COUNT):\n",
    "        birthdays = np.random.randint(0, 364, sample_size)\n",
    "        _, counts = np.unique(birthdays, return_counts=True)\n",
    "        if np.any(counts > 1):\n",
    "            matches += 1\n",
    "\n",
    "    print (f\"Sample size: {sample_size}, Probability of same birthday: {matches/SIMULATION_COUNT}\")\n",
    "    # if matches/SIMULATION_COUNT > 0.5:\n",
    "    #     print(f\"Population size required to have 50% chance of finding a pair with common birthday: {sample_size}\")\n",
    "    #     break"
   ]
  },
  {
   "cell_type": "code",
   "execution_count": 52,
   "metadata": {},
   "outputs": [
    {
     "name": "stdout",
     "output_type": "stream",
     "text": [
      "[20 17 20 17  9 10]\n"
     ]
    }
   ],
   "source": [
    "b = np.random.randint(0,30,6)\n",
    "print(b)"
   ]
  },
  {
   "cell_type": "code",
   "execution_count": 51,
   "metadata": {},
   "outputs": [
    {
     "data": {
      "text/plain": [
       "array([27,  6,  6, 22, 26])"
      ]
     },
     "execution_count": 51,
     "metadata": {},
     "output_type": "execute_result"
    }
   ],
   "source": [
    "b"
   ]
  },
  {
   "cell_type": "code",
   "execution_count": null,
   "metadata": {},
   "outputs": [],
   "source": []
  }
 ],
 "metadata": {
  "kernelspec": {
   "display_name": "gpu_torch",
   "language": "python",
   "name": "gpu_torch"
  },
  "language_info": {
   "codemirror_mode": {
    "name": "ipython",
    "version": 3
   },
   "file_extension": ".py",
   "mimetype": "text/x-python",
   "name": "python",
   "nbconvert_exporter": "python",
   "pygments_lexer": "ipython3",
   "version": "3.12.8"
  }
 },
 "nbformat": 4,
 "nbformat_minor": 2
}
